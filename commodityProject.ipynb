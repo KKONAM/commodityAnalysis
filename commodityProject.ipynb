{
 "cells": [
  {
   "cell_type": "code",
   "execution_count": 1,
   "id": "53e02775",
   "metadata": {},
   "outputs": [
    {
     "name": "stdout",
     "output_type": "stream",
     "text": [
      "Total no. of rows: 23\n",
      "Field names are:Date, Close/Last, Volume, Open, High, Low\n",
      "\n",
      "First 5 rows are:\n",
      "\n",
      "06/29/2021\n",
      "    122.55\n",
      "       824\n",
      "   122.125\n",
      "     122.6\n",
      "     121.3\n",
      "\n",
      "\n",
      "06/28/2021\n",
      "     122.1\n",
      "       739\n",
      "     123.1\n",
      "     123.3\n",
      "     121.7\n",
      "\n",
      "\n",
      "06/25/2021\n",
      "    122.95\n",
      "       449\n",
      "    122.85\n",
      "   123.025\n",
      "   121.975\n",
      "\n",
      "\n",
      "06/24/2021\n",
      "   122.825\n",
      "       601\n",
      "     122.5\n",
      "     123.1\n",
      "    121.75\n",
      "\n",
      "\n",
      "06/23/2021\n",
      "     122.5\n",
      "       800\n",
      "    123.75\n",
      "   124.225\n",
      "    122.05\n",
      "\n",
      "\n"
     ]
    }
   ],
   "source": [
    "import torch\n",
    "import csv\n",
    "filename = \"MeatData.csv\"\n",
    "  \n",
    "# initializing the titles and rows list\n",
    "fields = []\n",
    "rows = []\n",
    "  \n",
    "# reading csv file\n",
    "with open(filename, 'r') as csvfile:\n",
    "    # creating a csv reader object\n",
    "    csvreader = csv.reader(csvfile)\n",
    "      \n",
    "    # extracting field names through first row\n",
    "    fields = next(csvreader)\n",
    "  \n",
    "    # extracting each data row one by one\n",
    "    for row in csvreader:\n",
    "        rows.append(row)\n",
    "  \n",
    "    # get total number of rows\n",
    "    print(\"Total no. of rows: %d\"%(csvreader.line_num))\n",
    "  \n",
    "# printing the field names\n",
    "print('Field names are:' + ', '.join(field for field in fields))\n",
    "  \n",
    "#  printing first 5 rows\n",
    "print('\\nFirst 5 rows are:\\n')\n",
    "for row in rows[:5]:\n",
    "    # parsing each column of a row\n",
    "    for col in row:\n",
    "        print(\"%10s\"%col),\n",
    "    print('\\n')"
   ]
  },
  {
   "cell_type": "code",
   "execution_count": null,
   "id": "66bf53f3",
   "metadata": {},
   "outputs": [],
   "source": []
  },
  {
   "cell_type": "code",
   "execution_count": null,
   "id": "ba445797",
   "metadata": {},
   "outputs": [],
   "source": []
  },
  {
   "cell_type": "code",
   "execution_count": null,
   "id": "eb8ad97c",
   "metadata": {},
   "outputs": [],
   "source": []
  },
  {
   "cell_type": "code",
   "execution_count": null,
   "id": "b7e67d12",
   "metadata": {},
   "outputs": [],
   "source": []
  },
  {
   "cell_type": "code",
   "execution_count": null,
   "id": "a01860cd",
   "metadata": {},
   "outputs": [],
   "source": []
  }
 ],
 "metadata": {
  "kernelspec": {
   "display_name": "Python 3",
   "language": "python",
   "name": "python3"
  },
  "language_info": {
   "codemirror_mode": {
    "name": "ipython",
    "version": 3
   },
   "file_extension": ".py",
   "mimetype": "text/x-python",
   "name": "python",
   "nbconvert_exporter": "python",
   "pygments_lexer": "ipython3",
   "version": "3.8.8"
  }
 },
 "nbformat": 4,
 "nbformat_minor": 5
}
